{
 "cells": [
  {
   "cell_type": "markdown",
   "metadata": {},
   "source": [
    "# This file contains code of the paper 'Rejecting Novel Motions in High-Density Myoelectric Pattern Recognition using Hybrid Neural Networks'"
   ]
  },
  {
   "cell_type": "code",
   "execution_count": 1,
   "metadata": {},
   "outputs": [
    {
     "name": "stderr",
     "output_type": "stream",
     "text": [
      "Using TensorFlow backend.\n"
     ]
    }
   ],
   "source": [
    "import scipy.io as sio\n",
    "import numpy as np\n",
    "from keras.layers import Conv2D, MaxPool2D, Flatten, Dense,Dropout, Input, BatchNormalization\n",
    "from keras.models import Model\n",
    "from keras.losses import categorical_crossentropy\n",
    "from keras.optimizers import Adadelta\n",
    "import keras"
   ]
  },
  {
   "cell_type": "code",
   "execution_count": 2,
   "metadata": {},
   "outputs": [],
   "source": [
    "# load data\n",
    "path = './data/data'\n",
    "data=sio.loadmat(path)\n",
    "\n",
    "wristPronation = data['wristPronation']\n",
    "wristSupination = data['wristSupination']\n",
    "wristExtension = data['wristExtension']\n",
    "wristFlexion = data['wristFlexion']\n",
    "handOpen = data['handOpen']\n",
    "handClose = data['handClose']\n",
    "shoot = data['shoot']\n",
    "\n",
    "pinch = data['pinch']\n",
    "typing = data['typing']\n",
    "writing = data['writing']\n",
    "mouseManipulating = data['mouseManipulating']\n",
    "radialDeviation = data['radialDeviation']\n",
    "ulnarDeviation = data['ulnarDeviation']"
   ]
  },
  {
   "cell_type": "markdown",
   "metadata": {},
   "source": [
    "## part1: CNN"
   ]
  },
  {
   "cell_type": "code",
   "execution_count": 3,
   "metadata": {},
   "outputs": [],
   "source": [
    "def Spatial_Model(input_shape):\n",
    "    input_layer = Input(input_shape)\n",
    "    x = Conv2D(filters=32, kernel_size=(3, 3),activation='relu',name = 'conv_layer1')(input_layer)\n",
    "    x = Conv2D(filters=32, kernel_size=(3, 3), activation='relu',name = 'conv_layer2')(x)\n",
    "    x = Flatten()(x)\n",
    "    x = Dense(units=1024, activation='relu',name = 'dense_layer1')(x)\n",
    "    x = Dropout(0.4)(x)\n",
    "    x = Dense(units=512, activation='relu',name = 'dense_layer2')(x)\n",
    "    x = Dropout(0.4)(x)\n",
    "    output_layer = Dense(units=7, activation='softmax',name = 'output_layer')(x)\n",
    "    model = Model(inputs=input_layer, outputs=output_layer)\n",
    "    return model"
   ]
  },
  {
   "cell_type": "code",
   "execution_count": 4,
   "metadata": {},
   "outputs": [],
   "source": [
    "def getIntermediate(layer_name,X,model):\n",
    "    intermediate_layer_model = Model(inputs=model.input,\n",
    "                                     outputs=model.get_layer(layer_name).output)\n",
    "    intermediate_output = intermediate_layer_model.predict(X)\n",
    "    return intermediate_output\n",
    "\n",
    "def getPointedGesture(X,y,flag):\n",
    "    index = np.where(y==flag)\n",
    "    temp = X[index]\n",
    "    return temp"
   ]
  },
  {
   "cell_type": "code",
   "execution_count": 5,
   "metadata": {},
   "outputs": [
    {
     "name": "stdout",
     "output_type": "stream",
     "text": [
      "X_inliers.shape:  (4070, 12, 8, 3)\n",
      "y_inliers.shape:  (4070,)\n",
      "X_outliers.shape:  (2104, 12, 8, 3)\n",
      "y_outliers.shape:  (2104,)\n"
     ]
    }
   ],
   "source": [
    "\n",
    "classNum = 7\n",
    "X_inliers = np.concatenate((wristPronation,wristSupination,wristExtension,wristFlexion,handOpen,handClose,shoot),axis=0)\n",
    "print('X_inliers.shape: ',X_inliers.shape)\n",
    "y_inliers = np.concatenate((np.ones(wristPronation.shape[0])*0,np.ones(wristSupination.shape[0])*1,\n",
    "                            np.ones(wristExtension.shape[0])*2,np.ones(wristFlexion.shape[0])*3,\n",
    "                            np.ones(handOpen.shape[0])*4,np.ones(handClose.shape[0])*5,\n",
    "                            np.ones(shoot.shape[0])*6),axis=0)\n",
    "print('y_inliers.shape: ',y_inliers.shape)\n",
    "\n",
    "X_outliers = np.concatenate((typing,writing,mouseManipulating,pinch),axis=0)\n",
    "print('X_outliers.shape: ',X_outliers.shape)\n",
    "y_outliers = np.concatenate((np.ones(typing.shape[0])*7,np.ones(writing.shape[0])*8, np.ones(mouseManipulating.shape[0])*9,np.ones(pinch.shape[0])*10),axis=0)\n",
    "print('y_outliers.shape: ',y_outliers.shape)"
   ]
  },
  {
   "cell_type": "code",
   "execution_count": 6,
   "metadata": {},
   "outputs": [
    {
     "name": "stdout",
     "output_type": "stream",
     "text": [
      "_________________________________________________________________\n",
      "Layer (type)                 Output Shape              Param #   \n",
      "=================================================================\n",
      "input_1 (InputLayer)         (None, 12, 8, 3)          0         \n",
      "_________________________________________________________________\n",
      "conv_layer1 (Conv2D)         (None, 10, 6, 32)         896       \n",
      "_________________________________________________________________\n",
      "conv_layer2 (Conv2D)         (None, 8, 4, 32)          9248      \n",
      "_________________________________________________________________\n",
      "flatten_1 (Flatten)          (None, 1024)              0         \n",
      "_________________________________________________________________\n",
      "dense_layer1 (Dense)         (None, 1024)              1049600   \n",
      "_________________________________________________________________\n",
      "dropout_1 (Dropout)          (None, 1024)              0         \n",
      "_________________________________________________________________\n",
      "dense_layer2 (Dense)         (None, 512)               524800    \n",
      "_________________________________________________________________\n",
      "dropout_2 (Dropout)          (None, 512)               0         \n",
      "_________________________________________________________________\n",
      "output_layer (Dense)         (None, 7)                 3591      \n",
      "=================================================================\n",
      "Total params: 1,588,135\n",
      "Trainable params: 1,588,135\n",
      "Non-trainable params: 0\n",
      "_________________________________________________________________\n"
     ]
    }
   ],
   "source": [
    "model = Spatial_Model((12, 8, 3))\n",
    "model.summary()"
   ]
  },
  {
   "cell_type": "code",
   "execution_count": 7,
   "metadata": {},
   "outputs": [],
   "source": [
    "trainModel = False\n",
    "\n",
    "from sklearn.model_selection import train_test_split\n",
    "X_train, X_test_norm, y_train, y_test_norm = train_test_split(X_inliers, y_inliers, test_size=0.20, random_state=42)\n",
    "X_train, X_val, y_train, y_val = train_test_split(X_train, y_train, test_size=0.2, random_state=1)\n",
    "\n",
    "y_train_onehot = keras.utils.to_categorical(y_train, classNum)\n",
    "y_test_onehot = keras.utils.to_categorical(y_test_norm, classNum)\n",
    "model.compile(loss=categorical_crossentropy, optimizer=Adadelta(lr=0.1), metrics=['acc'])\n",
    "if trainModel:\n",
    "    model.fit(x=X_train, y=y_train_onehot, batch_size=16, epochs=50, shuffle=True, validation_split=0.05)\n",
    "    model.compile(loss=categorical_crossentropy, optimizer=Adadelta(lr=0.01), metrics=['acc'])\n",
    "    model.fit(x=X_train, y=y_train_onehot, batch_size=16, epochs=50, shuffle=True, validation_split=0.05)\n",
    "    model.save_weights('./model/modelCNN.h5')\n",
    "else:\n",
    "    model.load_weights('./model/modelCNN.h5')\n"
   ]
  },
  {
   "cell_type": "code",
   "execution_count": 8,
   "metadata": {},
   "outputs": [
    {
     "name": "stdout",
     "output_type": "stream",
     "text": [
      "814/814 [==============================] - 1s 1ms/step\n",
      "model_evaluate [[0.07023986597660287, 0.9828009829474316]]\n"
     ]
    }
   ],
   "source": [
    "model_evaluate = []\n",
    "model_evaluate.append(model.evaluate(X_test_norm,y_test_onehot))\n",
    "print('model_evaluate',model_evaluate)\n",
    "layer_name = 'dense_layer2'\n",
    "X_train_intermediate = getIntermediate(layer_name,X_train,model)\n",
    "X_test_intermediate_norm = getIntermediate(layer_name,X_test_norm,model)\n",
    "\n",
    "typing_intermediate = getIntermediate(layer_name,typing,model)\n",
    "writing_intermediate = getIntermediate(layer_name,writing,model)\n",
    "mouseManipulating_intermediate = getIntermediate(layer_name,mouseManipulating,model)\n",
    "pinch_intermediate = getIntermediate(layer_name,pinch,model)\n",
    "radialDeviation_intermediate = getIntermediate(layer_name,radialDeviation,model)\n",
    "ulnarDeviation_intermediate = getIntermediate(layer_name,ulnarDeviation,model)"
   ]
  },
  {
   "cell_type": "code",
   "execution_count": 9,
   "metadata": {},
   "outputs": [],
   "source": [
    "        ## train Data\n",
    "wristPronation_intermediate_train = getPointedGesture(X_train_intermediate,y_train,0)\n",
    "wristSupination_intermediate_train = getPointedGesture(X_train_intermediate,y_train,1)\n",
    "wristExtension_intermediate_train = getPointedGesture(X_train_intermediate,y_train,2)\n",
    "wristFlexion_intermediate_train = getPointedGesture(X_train_intermediate,y_train,3)\n",
    "handOpen_intermediate_train = getPointedGesture(X_train_intermediate,y_train,4)\n",
    "handClose_intermediate_train = getPointedGesture(X_train_intermediate,y_train,5)\n",
    "shoot_intermediate_train = getPointedGesture(X_train_intermediate,y_train,6)\n",
    "\n",
    "\n",
    "## test data\n",
    "wristPronation_intermediate_test = getPointedGesture(X_test_intermediate_norm,y_test_norm,0)\n",
    "wristSupination_intermediate_test = getPointedGesture(X_test_intermediate_norm,y_test_norm,1)\n",
    "wristExtension_intermediate_test = getPointedGesture(X_test_intermediate_norm,y_test_norm,2)\n",
    "wristFlexion_intermediate_test = getPointedGesture(X_test_intermediate_norm,y_test_norm,3)\n",
    "handOpen_intermediate_test = getPointedGesture(X_test_intermediate_norm,y_test_norm,4)\n",
    "handClose_intermediate_test = getPointedGesture(X_test_intermediate_norm,y_test_norm,5)\n",
    "shoot_intermediate_test = getPointedGesture(X_test_intermediate_norm,y_test_norm,6)\n",
    "\n",
    "typing_intermediate_test = typing_intermediate\n",
    "writing_intermediate_test = writing_intermediate\n",
    "mouseManipulating_intermediate_test = mouseManipulating_intermediate\n",
    "pinch_intermediate_test = pinch_intermediate\n",
    "radialDeviation_intermediate_test = radialDeviation_intermediate\n",
    "ulnarDeviation_intermediate_test = ulnarDeviation_intermediate\n",
    "\n",
    "outlierData = {'typing_intermediate_test':typing_intermediate_test,\n",
    "               'writing_intermediate_test':writing_intermediate_test,\n",
    "               'mouseManipulating_intermediate_test':mouseManipulating_intermediate_test,\n",
    "              'pinch_intermediate_test':pinch_intermediate_test}\n",
    "motionNameList = ['wristPronation','wristSupination','wristExtension','wristFlexion','handOpen','handClose','shoot']\n",
    "trainDataDict = {motionNameList[0]:wristPronation_intermediate_train,motionNameList[1]:wristSupination_intermediate_train,\n",
    "                 motionNameList[2]:wristExtension_intermediate_train,motionNameList[3]:wristFlexion_intermediate_train,\n",
    "                 motionNameList[4]:handOpen_intermediate_train,motionNameList[5]:handClose_intermediate_train,\n",
    "            motionNameList[6]:shoot_intermediate_train}\n",
    "testDataNameList = ['wristPronation','wristSupination','wristExtension','wristFlexion','handOpen','handClose','shoot',\n",
    "                    'typing','writing','mouseManipulating','pinch','radialDeviation','ulnarDeviation']\n",
    "testDataDict = {testDataNameList[0]:wristPronation_intermediate_test,testDataNameList[1]:wristSupination_intermediate_test,\n",
    "                testDataNameList[2]:wristExtension_intermediate_test,testDataNameList[3]:wristFlexion_intermediate_test,\n",
    "                testDataNameList[4]:handOpen_intermediate_test,testDataNameList[5]:handClose_intermediate_test,\n",
    "                testDataNameList[6]:shoot_intermediate_test,testDataNameList[7]:typing_intermediate_test[0:150],\n",
    "                testDataNameList[8]:writing_intermediate_test[0:150],testDataNameList[9]:mouseManipulating_intermediate_test[0:150],\n",
    "                testDataNameList[10]:pinch_intermediate_test[0:150],testDataNameList[11]:radialDeviation_intermediate_test[0:150],\n",
    "               testDataNameList[12]:ulnarDeviation_intermediate_test[0:150]}"
   ]
  },
  {
   "cell_type": "code",
   "execution_count": 10,
   "metadata": {},
   "outputs": [],
   "source": [
    "X_val_intermediate = getIntermediate(layer_name,X_val,model)\n",
    "wristPronation_intermediate_val = getPointedGesture(X_val_intermediate,y_val,0)\n",
    "wristSupination_intermediate_val = getPointedGesture(X_val_intermediate,y_val,1)\n",
    "wristExtension_intermediate_val = getPointedGesture(X_val_intermediate,y_val,2)\n",
    "wristFlexion_intermediate_val = getPointedGesture(X_val_intermediate,y_val,3)\n",
    "handOpen_intermediate_val = getPointedGesture(X_val_intermediate,y_val,4)\n",
    "handClose_intermediate_val = getPointedGesture(X_val_intermediate,y_val,5)\n",
    "shoot_intermediate_val = getPointedGesture(X_val_intermediate,y_val,6)\n",
    "\n",
    "valDataDict = {motionNameList[0]:wristPronation_intermediate_val,motionNameList[1]:wristSupination_intermediate_val,\n",
    "               motionNameList[2]:wristExtension_intermediate_val,motionNameList[3]:wristFlexion_intermediate_val,\n",
    "               motionNameList[4]:handOpen_intermediate_val,motionNameList[5]:handClose_intermediate_val,\n",
    "            motionNameList[6]:shoot_intermediate_val}"
   ]
  },
  {
   "cell_type": "markdown",
   "metadata": {},
   "source": [
    "## part2: autoEncoder"
   ]
  },
  {
   "cell_type": "code",
   "execution_count": 11,
   "metadata": {},
   "outputs": [],
   "source": [
    "from keras import regularizers\n",
    "from keras.losses import mean_squared_error\n",
    "from keras.optimizers import SGD\n",
    "\n",
    "def autoModel(input_shape):\n",
    "    input_img = Input(input_shape)\n",
    "    encoded = Dense(256, activation='relu',kernel_regularizer=regularizers.l2(0.002))(input_img)\n",
    "    encoded = BatchNormalization()(encoded)\n",
    "    encoded = Dense(64, activation='relu',kernel_regularizer=regularizers.l2(0.002))(encoded)\n",
    "    encoded = BatchNormalization()(encoded)\n",
    "    decoded = Dense(256, activation='relu',kernel_regularizer=regularizers.l2(0.002))(encoded)\n",
    "    decoded = BatchNormalization()(decoded)\n",
    "    decoded = Dense(512, activation='relu',kernel_regularizer=regularizers.l2(0.002))(decoded)\n",
    "    model = Model(input_img, decoded)\n",
    "    return model"
   ]
  },
  {
   "cell_type": "code",
   "execution_count": 13,
   "metadata": {},
   "outputs": [],
   "source": [
    "trainAutoFlag = False\n",
    "\n",
    "if trainAutoFlag:\n",
    "    for motionId in range(len(motionNameList)):\n",
    "        motionName = motionNameList[motionId]\n",
    "        x_train = trainDataDict[motionName]\n",
    "        x_val = valDataDict[motionName]\n",
    "\n",
    "        autoencoder = autoModel((512,))\n",
    "        autoencoder.compile(loss=mean_squared_error, optimizer=SGD(lr=0.1))\n",
    "\n",
    "        autoencoder.fit(x_train, x_train,\n",
    "                        epochs=600,\n",
    "                        batch_size=16,\n",
    "                        shuffle=True,\n",
    "                        validation_data=(x_val, x_val))\n",
    "\n",
    "        autoencoder.compile(loss=mean_squared_error, optimizer=SGD(lr=0.01))\n",
    "        autoencoder.fit(x_train, x_train,\n",
    "                        epochs=300,\n",
    "                        batch_size=16,\n",
    "                        shuffle=True,\n",
    "                        validation_data=(x_val, x_val))\n",
    "        autoencoder.save_weights('./model/autoencoder/Autoencoder_'+motionName+'.h5')"
   ]
  },
  {
   "cell_type": "markdown",
   "metadata": {},
   "source": [
    "### Calculate ROC curve"
   ]
  },
  {
   "cell_type": "code",
   "execution_count": 14,
   "metadata": {},
   "outputs": [
    {
     "name": "stdout",
     "output_type": "stream",
     "text": [
      "motionName:  wristPronation\n",
      "motionName:  wristSupination\n",
      "motionName:  wristExtension\n",
      "motionName:  wristFlexion\n",
      "motionName:  handOpen\n",
      "motionName:  handClose\n",
      "motionName:  shoot\n"
     ]
    }
   ],
   "source": [
    "import matplotlib\n",
    "import matplotlib.pyplot as plt\n",
    "from scipy.spatial.distance import pdist\n",
    "from sklearn.metrics import roc_curve, auc\n",
    "\n",
    "\n",
    "targetDict = {}\n",
    "for motionId in range(len(motionNameList)):\n",
    "    targetList = []\n",
    "    motionName = motionNameList[motionId]\n",
    "    print('motionName: ', motionName)\n",
    "    # load models\n",
    "    autoencoder = autoModel((512,))\n",
    "    autoencoder.compile(loss=mean_squared_error, optimizer=Adadelta(lr=0.5))\n",
    "    autoencoder.load_weights('./model/autoencoder/Autoencoder_'+motionName+'.h5') \n",
    "    original = valDataDict[motionName]\n",
    "    decoded_imgs = autoencoder.predict(original)\n",
    "    num = decoded_imgs.shape[0]\n",
    "    for i in range(num):\n",
    "        X = np.vstack([original[i,:],decoded_imgs[i,:]])\n",
    "        lose = pdist(X,'braycurtis')\n",
    "        targetList.append(lose[0])\n",
    "    targetDict[motionName] = targetList"
   ]
  },
  {
   "cell_type": "code",
   "execution_count": 15,
   "metadata": {},
   "outputs": [
    {
     "name": "stdout",
     "output_type": "stream",
     "text": [
      "motionName:  wristPronation\n",
      "motionName:  wristSupination\n",
      "motionName:  wristExtension\n",
      "motionName:  wristFlexion\n",
      "motionName:  handOpen\n",
      "motionName:  handClose\n",
      "motionName:  shoot\n"
     ]
    }
   ],
   "source": [
    "mdDict = {}\n",
    "for motionId in range(len(motionNameList)):\n",
    "    motionName = motionNameList[motionId]\n",
    "    print('motionName: ', motionName)\n",
    "    # load models\n",
    "    autoencoder = autoModel((512,))\n",
    "    autoencoder.compile(loss=mean_squared_error, optimizer=Adadelta(lr=0.5))\n",
    "    autoencoder.load_weights('./model/autoencoder/AutoEncoder_'+motionName+'.h5')\n",
    "    originalDict = {}\n",
    "    decodedDict = {}\n",
    "    for gestureId in range(len(testDataNameList)):\n",
    "        originalDict[testDataNameList[gestureId]] = testDataDict[testDataNameList[gestureId]]\n",
    "        decodedDict[testDataNameList[gestureId]] = autoencoder.predict(originalDict[testDataNameList[gestureId]])\n",
    "\n",
    "    \n",
    "    reconstruction_error = []\n",
    "    for gestureID in range(len(testDataNameList)):\n",
    "        original = originalDict[testDataNameList[gestureID]]\n",
    "        decoded_imgs = decodedDict[testDataNameList[gestureID]]\n",
    "        num = decoded_imgs.shape[0]\n",
    "        for i in range(num):\n",
    "            X = np.vstack([original[i,:],decoded_imgs[i,:]])\n",
    "            lose = pdist(X,'braycurtis')\n",
    "            reconstruction_error.append(lose[0])\n",
    "    mdDict[motionName] = reconstruction_error"
   ]
  },
  {
   "cell_type": "code",
   "execution_count": 16,
   "metadata": {},
   "outputs": [
    {
     "data": {
      "image/png": "[encoded data removed]",
      "text/plain": [
       "<Figure size 360x360 with 1 Axes>"
      ]
     },
     "metadata": {
      "needs_background": "light"
     },
     "output_type": "display_data"
    }
   ],
   "source": [
    "outlierAllNum = 150 * 6  #six novel motions, 150 samples for each motion\n",
    "y_label = []\n",
    "for motionId in range(len(motionNameList)):\n",
    "    motionName = motionNameList[motionId]\n",
    "    y_label.extend(np.ones(len(testDataDict[motionName])))\n",
    "y_label.extend(np.zeros(len(testDataDict['typing'])))\n",
    "y_label.extend(np.zeros(len(testDataDict['writing'])))\n",
    "y_label.extend(np.zeros(len(testDataDict['mouseManipulating'])))\n",
    "y_label.extend(np.zeros(len(testDataDict['pinch'])))\n",
    "y_label.extend(np.zeros(len(testDataDict['radialDeviation'])))\n",
    "y_label.extend(np.zeros(len(testDataDict['radialDeviation'])))\n",
    "\n",
    "outliers_fraction_List = []\n",
    "P_List = []\n",
    "R_List = []\n",
    "F1_List = []\n",
    "TPR_List = []\n",
    "FPR_List = []\n",
    "\n",
    "#outliers_fraction = 0.02\n",
    "for outliers_i in range(-1,101):\n",
    "    \n",
    "    outliers_fraction = outliers_i/100\n",
    "    outliers_fraction_List.append(outliers_fraction)\n",
    "\n",
    "    \n",
    "    y_pred = np.zeros(len(y_label))\n",
    "    thresholdDict = {}\n",
    "    for motionId in range(len(motionNameList)):\n",
    "    #    motionId = 0\n",
    "        motionName = motionNameList[motionId]\n",
    "        distances = targetDict[motionName]\n",
    "        distances = np.sort(distances)\n",
    "        num = len(distances)\n",
    "#        print('outliers_fraction:',outliers_fraction)\n",
    "        if outliers_fraction >= 0:\n",
    "            threshold = distances[num-1-int(outliers_fraction*num)]# get threshold\n",
    "        if outliers_fraction < 0:\n",
    "            threshold = 10000.0\n",
    "        if outliers_fraction == 1.0:\n",
    "            threshold = 0\n",
    "        thresholdDict[motionName] = threshold \n",
    "        mdDistances = mdDict[motionName]\n",
    "        y_pred_temp = (np.array(mdDistances)<=threshold)*1\n",
    "        y_pred = y_pred + y_pred_temp\n",
    "        \n",
    "    y_pred = (y_pred>0)*1\n",
    "    TP = np.sum(y_pred[0:-outlierAllNum])\n",
    "    FN = len(y_pred[0:-outlierAllNum])-TP\n",
    "    FP = np.sum(y_pred[-outlierAllNum:])\n",
    "    TN = outlierAllNum - FP\n",
    "    t = 0.00001\n",
    "    P = TP/(TP+FP+t)\n",
    "    R = TP/(TP+FN+t)\n",
    "    F1 = 2*P*R/(P+R+t)\n",
    "    TPR = TP/(TP+FN+t)\n",
    "    FPR = FP/(TN+FP+t)\n",
    "    \n",
    "    P_List.append(P)\n",
    "    R_List.append(R)\n",
    "    F1_List.append(F1)\n",
    "    TPR_List.append(TPR)\n",
    "    FPR_List.append(FPR)\n",
    "\n",
    "roc_auc = auc(FPR_List, TPR_List)  \n",
    "fig, ax = plt.subplots(figsize=(5, 5))\n",
    "plt.plot(FPR_List, TPR_List, lw=2,label='AUC = %0.2f' % ( roc_auc))\n",
    "plt.plot([0, 1], [0, 1], linestyle='--', lw=2, color='r',label='Chance', alpha=.8)\n",
    "plt.xlim([-0.05, 1.05])\n",
    "plt.ylim([-0.05, 1.05])\n",
    "plt.xlabel('False Positive Rate')\n",
    "plt.ylabel('True Positive Rate')\n",
    "plt.title('Receiver operating characteristic(ROC)')\n",
    "plt.legend(loc=\"lower right\")\n",
    "plt.show()"
   ]
  },
  {
   "cell_type": "markdown",
   "metadata": {},
   "source": [
    "### calculate classification accuracies"
   ]
  },
  {
   "cell_type": "code",
   "execution_count": null,
   "metadata": {},
   "outputs": [],
   "source": [
    "resultDict = {}\n",
    "for motionId in range(len(motionNameList)):\n",
    "    motionName = motionNameList[motionId]\n",
    "    # load models\n",
    "    autoencoder = autoModel((512,))\n",
    "    autoencoder.compile(loss=mean_squared_error, optimizer=Adadelta(lr=0.5))\n",
    "    autoencoder.load_weights('./model/autoencoder/AutoEncoder_'+motionName+'.h5')\n",
    "    # refactore data\n",
    "    originalDict = {}\n",
    "    decodedDict = {}\n",
    "    \n",
    "    for gestureId in range(len(testDataNameList)):\n",
    "        originalDict[testDataNameList[gestureId]] = testDataDict[testDataNameList[gestureId]]\n",
    "        decodedDict[testDataNameList[gestureId]] = autoencoder.predict(originalDict[testDataNameList[gestureId]])\n",
    "        \n",
    "    loseDict = {}\n",
    "    for gestureID in range(len(testDataNameList)):\n",
    "        \n",
    "        loseList= []\n",
    "        original = originalDict[testDataNameList[gestureID]]\n",
    "        decoded_imgs = decodedDict[testDataNameList[gestureID]]\n",
    "        num = decoded_imgs.shape[0]\n",
    "        for i in range(num):\n",
    "            X = np.vstack([original[i,:],decoded_imgs[i,:]])\n",
    "            lose = pdist(X,'braycurtis')\n",
    "            loseList.append(lose[0])\n",
    "        loseDict[testDataNameList[gestureID]] = loseList\n",
    "\n",
    "    resultDict[motionName] = loseDict"
   ]
  },
  {
   "cell_type": "code",
   "execution_count": null,
   "metadata": {},
   "outputs": [],
   "source": [
    "outliers_fraction = 0.15\n",
    "thresholdDict = {}\n",
    "for motionId in range(len(motionNameList)):\n",
    "\n",
    "    motionName = motionNameList[motionId]\n",
    "\n",
    "    # load model\n",
    "    autoencoder = autoModel((512,))\n",
    "    autoencoder.compile(loss=mean_squared_error, optimizer=Adadelta(lr=0.5))\n",
    "    autoencoder.load_weights('./model/autoencoder/AutoEncoder_'+motionName+'.h5')\n",
    "\n",
    "    # val data\n",
    "    original_val = valDataDict[motionName]\n",
    "    decoded_val = autoencoder.predict(original_val)\n",
    "    \n",
    "    loseList= []\n",
    "    original = original_val\n",
    "    decoded_imgs = decoded_val\n",
    "    num = decoded_imgs.shape[0]\n",
    "    for i in range(num):\n",
    "        X = np.vstack([original[i,:],decoded_imgs[i,:]])\n",
    "        lose = pdist(X,'braycurtis')\n",
    "        loseList.append(lose[0])\n",
    "    ## calculate threshold for each task\n",
    "    loseArray = np.array(loseList)\n",
    "    loseArraySort = np.sort(loseArray)\n",
    "    anomaly_threshold = loseArraySort[-(int((outliers_fraction*len(loseArray)))+1)]\n",
    "    thresholdDict[motionName] = anomaly_threshold\n",
    "    \n",
    "    # plot lose and threshold\n",
    "    fig, ax = plt.subplots(figsize=(5, 5))\n",
    "    t = np.arange(num)\n",
    "    s = loseArray\n",
    "    ax.scatter(t,s,label=motionName)\n",
    "    ax.hlines(anomaly_threshold,0,150,colors = \"r\")\n",
    "    ax.set(xlabel='sample (n)', ylabel='MSE',\n",
    "           title='MSEs of '+ motionName + ', threshold:' + str(anomaly_threshold))\n",
    "    ax.grid()\n",
    "    plt.legend(loc=\"lower right\")\n",
    "    plt.xlim(xmin = -3)\n",
    "    plt.xlim(xmax = 70)\n",
    "    plt.show()"
   ]
  },
  {
   "cell_type": "code",
   "execution_count": null,
   "metadata": {},
   "outputs": [],
   "source": [
    "errorSum = 0\n",
    "testSum = 0\n",
    "barDict = {}\n",
    "outlierClass = 6\n",
    "rejectMotion = {}\n",
    "for motionId in range(len(testDataNameList)):\n",
    "\n",
    "    recogList = []\n",
    "    motionName = testDataNameList[motionId]\n",
    "    for recogId in range(len(testDataNameList)-outlierClass):\n",
    "        identyResult = resultDict[testDataNameList[recogId]]\n",
    "        targetResult = np.array(identyResult[motionName])\n",
    "        recogList.append((targetResult<=thresholdDict[testDataNameList[recogId]])*1) # 每一个类别有自己的threshold用于拒判\n",
    "        recogArray = np.array(recogList)\n",
    "    recogArray = np.sum(recogArray,axis=0)\n",
    "    recogArray = (recogArray>0)*1\n",
    "    rejectMotion[testDataNameList[motionId]] = recogArray\n",
    "    if motionId<(len(testDataNameList)-outlierClass):\n",
    "        numError = np.sum(1-recogArray)\n",
    "    else:\n",
    "        numError = np.sum(recogArray)\n",
    "    numTarget = len(recogArray)\n",
    "    if motionId<(len(testDataNameList)-outlierClass):\n",
    "        errorSum = errorSum + numError\n",
    "        testSum = testSum + numTarget\n",
    "    barDict[testDataNameList[motionId]] = (numError/numTarget)\n",
    "barDict['target overall'] = errorSum/testSum\n",
    "print(barDict)\n",
    "\n",
    "import matplotlib.pyplot as plt; plt.rcdefaults()\n",
    "import numpy as np\n",
    "import matplotlib.pyplot as plt\n",
    "from matplotlib.pyplot import figure\n",
    "\n",
    "figure(num=None, figsize=(15, 6))\n",
    "\n",
    "objects = ('wristPronation','wristSupination','wristExtension','wristFlexion','handOpen','handClose','shoot','target overall',\n",
    "           'typing','writing','mouseManipulating','pinch','radialDeviation','ulnarDeviation')\n",
    "y_pos = np.arange(len(objects))\n",
    "proposed = []\n",
    "for i in range(len(objects)):\n",
    "    proposed.append(barDict[objects[i]])\n",
    "bar_width = 0.35\n",
    "opacity = 0.8\n",
    "rects2 = plt.bar(y_pos + bar_width, proposed, bar_width,\n",
    "alpha=opacity,\n",
    "label='Proposed')\n",
    "\n",
    "\n",
    "plt.xticks(y_pos + bar_width, objects)\n",
    "plt.ylabel('Error Rates of Novelty Detection (%)')\n",
    "plt.legend()\n",
    "plt.tight_layout()\n",
    "plt.show()"
   ]
  },
  {
   "cell_type": "code",
   "execution_count": null,
   "metadata": {},
   "outputs": [],
   "source": []
  }
 ],
 "metadata": {
  "kernelspec": {
   "display_name": "Python 3",
   "language": "python",
   "name": "python3"
  },
  "language_info": {
   "codemirror_mode": {
    "name": "ipython",
    "version": 3
   },
   "file_extension": ".py",
   "mimetype": "text/x-python",
   "name": "python",
   "nbconvert_exporter": "python",
   "pygments_lexer": "ipython3",
   "version": "3.6.6"
  }
 },
 "nbformat": 4,
 "nbformat_minor": 2
}
